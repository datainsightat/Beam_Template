{
  "nbformat": 4,
  "nbformat_minor": 0,
  "metadata": {
    "colab": {
      "name": "beam_case_bank.ipynb",
      "provenance": [],
      "collapsed_sections": []
    },
    "kernelspec": {
      "name": "python3",
      "display_name": "Python 3"
    },
    "language_info": {
      "name": "python"
    }
  },
  "cells": [
    {
      "cell_type": "markdown",
      "source": [
        "## Setup"
      ],
      "metadata": {
        "id": "FwIcebogaILP"
      }
    },
    {
      "cell_type": "markdown",
      "source": [
        "### Install Apache Beam\n",
        "\n",
        "https://colab.research.google.com/?utm_source=scs-index"
      ],
      "metadata": {
        "id": "pbl7I57ZQS8V"
      }
    },
    {
      "cell_type": "code",
      "execution_count": 1,
      "metadata": {
        "id": "0pb4M2i8LfRb",
        "colab": {
          "base_uri": "https://localhost:8080/"
        },
        "outputId": "00d7cb5e-b606-4a46-fa5d-c38e24e30edd"
      },
      "outputs": [
        {
          "output_type": "stream",
          "name": "stdout",
          "text": [
            "\u001b[K     |████████████████████████████████| 10.1 MB 5.3 MB/s \n",
            "\u001b[K     |████████████████████████████████| 151 kB 26.5 MB/s \n",
            "\u001b[K     |████████████████████████████████| 255 kB 62.5 MB/s \n",
            "\u001b[K     |████████████████████████████████| 2.3 MB 57.1 MB/s \n",
            "\u001b[K     |████████████████████████████████| 45 kB 2.9 MB/s \n",
            "\u001b[K     |████████████████████████████████| 63 kB 1.3 MB/s \n",
            "\u001b[K     |████████████████████████████████| 508 kB 46.0 MB/s \n",
            "\u001b[K     |████████████████████████████████| 1.1 MB 55.2 MB/s \n",
            "\u001b[?25h  Building wheel for dill (setup.py) ... \u001b[?25l\u001b[?25hdone\n",
            "\u001b[31mERROR: pip's dependency resolver does not currently take into account all the packages that are installed. This behaviour is the source of the following dependency conflicts.\n",
            "tensorflow 2.8.0 requires tf-estimator-nightly==2.8.0.dev2021122109, which is not installed.\n",
            "multiprocess 0.70.12.2 requires dill>=0.3.4, but you have dill 0.3.1.1 which is incompatible.\n",
            "gym 0.17.3 requires cloudpickle<1.7.0,>=1.2.0, but you have cloudpickle 2.0.0 which is incompatible.\n",
            "google-colab 1.0.0 requires requests~=2.23.0, but you have requests 2.27.1 which is incompatible.\n",
            "datascience 0.10.6 requires folium==0.2.1, but you have folium 0.8.3 which is incompatible.\u001b[0m\n"
          ]
        }
      ],
      "source": [
        "!{'pip install --quiet apache-beam'}\n",
        "!{'mkdir -p data'}"
      ]
    },
    {
      "cell_type": "markdown",
      "source": [
        "### Load Data from Google Drive"
      ],
      "metadata": {
        "id": "Y0Gc9gbD2yFv"
      }
    },
    {
      "cell_type": "code",
      "source": [
        "from google.colab import drive\n",
        "drive.mount(\"/content/drive\")"
      ],
      "metadata": {
        "colab": {
          "base_uri": "https://localhost:8080/"
        },
        "id": "MwM-kif723nV",
        "outputId": "50afea13-404e-4d7d-b3c3-ba74e6c4ed01"
      },
      "execution_count": 2,
      "outputs": [
        {
          "output_type": "stream",
          "name": "stdout",
          "text": [
            "Mounted at /content/drive\n"
          ]
        }
      ]
    },
    {
      "cell_type": "code",
      "source": [
        "!ls \"drive/MyDrive/Colab Notebooks/data/bank\""
      ],
      "metadata": {
        "colab": {
          "base_uri": "https://localhost:8080/"
        },
        "id": "97yowZdt3mOe",
        "outputId": "4acf9e45-2451-4dcf-b7bc-6c10da302c81"
      },
      "execution_count": 3,
      "outputs": [
        {
          "output_type": "stream",
          "name": "stdout",
          "text": [
            "Bank_requirements.txt  cards.txt  defaulters  loan.txt\n"
          ]
        }
      ]
    },
    {
      "cell_type": "markdown",
      "source": [
        "## Pipeline"
      ],
      "metadata": {
        "id": "9E684ifkpU2W"
      }
    },
    {
      "cell_type": "code",
      "source": [
        "import apache_beam as beam\n",
        "from datetime import datetime\n",
        "\n",
        "p = beam.Pipeline()\n",
        "\n",
        "def calculate_points(element):\n",
        "\n",
        "  customer_id, first_name, last_name, relationship_id, card_type, max_limit, spent, cash_withdrawn, payment_cleared, payment_date = element.split(',')\n",
        "\n",
        "  spent = int(spent)\n",
        "  payment_cleared = int(payment_cleared)\n",
        "  max_limit = int(max_limit)\n",
        "\n",
        "  key_name = customer_id + ', ' + first_name + ' ' + last_name\n",
        "  defaulter_points = 0\n",
        "\n",
        "  if payment_cleared < (spent * 0.7):\n",
        "    defaulter_points += 1\n",
        "\n",
        "  if (spent >= max_limit) and (payment_cleared < spent):\n",
        "    defaulter_points += 1\n",
        "\n",
        "  if (spent >= max_limit) and (payment_cleared < (spent * 0.7)):\n",
        "    defaulter_points += 1\n",
        "\n",
        "  return key_name, defaulter_points\n",
        "\n",
        "def format_result(sum_pair):\n",
        "\n",
        "  key_name, points = sum_pair\n",
        "\n",
        "  return str(key_name) + ', ' + str(points) + ' default_points'\n",
        "\n",
        "def calculate_late_payment(elements):\n",
        "  \n",
        "  due_date = datetime.strptime(elements[6].rstrip().lstrip(), '%d-%m-%Y')\n",
        "  payment_date = datetime.strptime(elements[8].rstrip().lstrip(), '%d-%m-%Y')\n",
        "\n",
        "  if payment_date <= due_date:\n",
        "    elements.append('0')\n",
        "  else:\n",
        "    elements.append('1')\n",
        "\n",
        "  return elements\n",
        "\n",
        "def format_output(sum_pair):\n",
        "\n",
        "  key_name, miss_months = sum_pair\n",
        "  return str(key_name) + ', ' + str(miss_months) + ' missed'\n",
        "\n",
        "def calculate_month(input_list):\n",
        "  \n",
        "  payment_date = datetime.strptime(input_list[8].rstrip().lstrip(), '%d-%m-%Y')\n",
        "  input_list.append(str(payment_date.month))\n",
        "\n",
        "  return input_list\n",
        "\n",
        "def calculate_personal_loan_defaulter(input):\n",
        "\n",
        "  max_allowed_missed_months = 4\n",
        "  max_allowed_consecutive_missing = 2\n",
        "\n",
        "  name, months_list = input\n",
        "\n",
        "  months_list.sort()\n",
        "  sorted_months = months_list\n",
        "  total_payments = len(sorted_months)\n",
        "\n",
        "  missed_payments = 12 - total_payments\n",
        "\n",
        "  if missed_payments > max_allowed_missed_months:\n",
        "    return name, missed_payments\n",
        "\n",
        "  consecutive_missed_months = 0\n",
        "\n",
        "  temp = sorted_months[0] - 1\n",
        "\n",
        "  if temp > consecutive_missed_months:\n",
        "    consecutive_missed_months = temp\n",
        "\n",
        "  temp = 12 - sorted_months[total_payments - 1]\n",
        "\n",
        "  if temp > consecutive_missed_months:\n",
        "    consecutive_missed_months = temp\n",
        "\n",
        "  for i in range(1, len(sorted_months)):\n",
        "    temp = sorted_months[i] - sorted_months[i-1] - 1\n",
        "    if temp > consecutive_missed_months:\n",
        "      consecutive_missed_months = temp\n",
        "  \n",
        "  if consecutive_missed_months > max_allowed_consecutive_missing:\n",
        "    return name, consecutive_missed_months\n",
        "\n",
        "  return name, 0\n",
        "\n",
        "def return_tuple(element):\n",
        "  thisTuple = element.split(',')\n",
        "  return(thisTuple[0],thisTuple[1:])\n",
        "\n",
        "card_defaulter = (\n",
        "    p\n",
        "    | \"Read credit card data\" >> beam.io.ReadFromText(\"drive/MyDrive/Colab Notebooks/data/bank/cards.txt\", skip_header_lines=1)\n",
        "    | \"Calculate defaulter points\" >> beam.Map(calculate_points)\n",
        "    | \"Combine points for defaulters\" >> beam.CombinePerKey(sum)\n",
        "    | \"filter card defaulters\" >> beam.Filter(lambda element: element[1] > 0)\n",
        "    | \"Format output\" >> beam.Map(format_result)\n",
        "    #| \"Write credit card data\" >> beam.io.WriteToText(\"outputs/card_skippers\")\n",
        "    | \"Tuple Card\" >> beam.Map(return_tuple)\n",
        ")\n",
        "\n",
        "medical_loan_defaulter = (\n",
        "    p\n",
        "    | \"Read medical loan data\" >> beam.io.ReadFromText(\"drive/MyDrive/Colab Notebooks/data/bank/loan.txt\", skip_header_lines=1)\n",
        "    | \"Split Row\" >> beam.Map(lambda row:row.split(','))\n",
        "    | \"Filter medical loan\" >> beam.Filter(lambda element:(element[5]).rstrip().lstrip() == 'Medical Loan')\n",
        "    | \"Calculate late payment\" >> beam.Map(calculate_late_payment)\n",
        "    | \"Make key value pairs\" >> beam.Map(lambda elements:(elements[0] + ', ' + elements[1] + ' ' + elements[2], int(elements[9])))\n",
        "    | \"Group medical loan based on month\" >> beam.CombinePerKey(sum)\n",
        "    | \"Check for medical loan defaulter\" >> beam.Filter(lambda element:element[1] >= 3)\n",
        "    | \"Format medical loan output\" >> beam.Map(format_output)\n",
        ")\n",
        "\n",
        "personal_loan_defaulter = (\n",
        "    p\n",
        "    | \"Read personal loan data\" >> beam.io.ReadFromText(\"drive/MyDrive/Colab Notebooks/data/bank/loan.txt\", skip_header_lines=1) #CT88330,Humberto,Banks,Serviceman,LN_1559,Medical Loan,26-01-2018, 2000, 30-01-2018\n",
        "    | \"Split\" >> beam.Map(lambda row:row.split(',')) #['CT88330', 'Humberto', 'Banks', 'Serviceman', 'LN_1559', 'Medical Loan', '26-01-2018', ' 2000', ' 30-01-2018']\n",
        "    | \"Filter personal loan\" >> beam.Filter(lambda element:(element[5]).rstrip().lstrip() == 'Personal Loan') #['CT68554', 'Ronald', 'Chiki', 'Serviceman', 'LN_8460', 'Personal Loan', '25-01-2018', ' 50000', ' 25-01-2018']\n",
        "    | \"split and Append New Month column\" >> beam.Map(calculate_month) #['CT68554', 'Ronald', 'Chiki', 'Serviceman', 'LN_8460', 'Personal Loan', '25-01-2018', ' 50000', ' 25-01-2018', '1']\n",
        "    | \"Make key value pairs loan\" >> beam.Map(lambda elements: (elements[0] + ', ' + elements[1] + ' ' + elements[2], int(elements[9]))) #('CT68554, Ronald Chiki', 1)\n",
        "    | \"Group for personal loan defaulter\" >> beam.GroupByKey() #('CT68554, Ronald Chiki', [1, 5, 6, 7, 8, 9, 10, 11, 12])\n",
        "    | \"Check for personal loan defaulter\" >> beam.Map(calculate_personal_loan_defaulter) #('CT68554, Ronald Chiki', 3)\n",
        "    | \"Filter only personal loan defaulters\" >> beam.Filter(lambda element: element[1] > 0) #('CT68554, Ronald Chiki', 3)\n",
        "    | \"Format personal loan ouput\" >> beam.Map(format_output) #CT68554, Ronald Chiki, 3 missed\n",
        ")\n",
        "\n",
        "final_loan_defaulter = (\n",
        "    (personal_loan_defaulter, medical_loan_defaulter)\n",
        "    | \"Combine all defaulters\" >> beam.Flatten()\n",
        "    #| \"Write all defaultes to text file\" >> beam.io.WriteToText('outputs/loan_defaulters')\n",
        "    | \"Tuple Loan\" >> beam.Map(return_tuple)\n",
        ")\n",
        "\n",
        "both_defaulter = (\n",
        "    {'card_defaulter': card_defaulter, 'loan_defaulter': final_loan_defaulter}\n",
        "    | beam.CoGroupByKey()\n",
        "    | \"Write p3 results\" >> beam.io.WriteToText(\"outputs/both\")\n",
        ")\n",
        "\n",
        "p.run()\n",
        "\n",
        "#!{'head -n 5 outputs/card_skippers-00000-of-00001'}\n",
        "#!{'head -n 5 outputs/loan_defaulters-00000-of-00001'}\n",
        "!{'head -n 5 outputs/both-00000-of-00001'}"
      ],
      "metadata": {
        "colab": {
          "base_uri": "https://localhost:8080/"
        },
        "id": "_y7yUFAcpYMc",
        "outputId": "494c2617-dea4-4b97-d1cf-385647bd8608"
      },
      "execution_count": 51,
      "outputs": [
        {
          "output_type": "stream",
          "name": "stderr",
          "text": [
            "WARNING:root:Make sure that locally built Python SDK docker image has Python 3.7 interpreter.\n",
            "WARNING:apache_beam.io.filebasedsink:Deleting 1 existing files in target path matching: -*-of-%(num_shards)05d\n"
          ]
        },
        {
          "output_type": "stream",
          "name": "stdout",
          "text": [
            "('CT28383', {'card_defaulter': [[' Miyako Burns', ' 3 default_points']], 'loan_defaulter': []})\n",
            "('CT74474', {'card_defaulter': [[' Nanaho Brennan', ' 3 default_points']], 'loan_defaulter': [[' Nanaho Brennan', ' 5 missed']]})\n",
            "('CT66322', {'card_defaulter': [[' Chris Bruce', ' 1 default_points']], 'loan_defaulter': [[' Chris Bruce', ' 8 missed']]})\n",
            "('CT65528', {'card_defaulter': [[' Bonnie Barlow', ' 2 default_points']], 'loan_defaulter': []})\n",
            "('CT84463', {'card_defaulter': [[' Isaac Bowman', ' 4 default_points']], 'loan_defaulter': [[' Isaac Bowman', ' 3 missed']]})\n"
          ]
        }
      ]
    },
    {
      "cell_type": "markdown",
      "source": [
        "## Loan Defaulters"
      ],
      "metadata": {
        "id": "64eWbQvSs-b6"
      }
    },
    {
      "cell_type": "code",
      "source": [
        ""
      ],
      "metadata": {
        "id": "CKTQ-ifqtAfX"
      },
      "execution_count": null,
      "outputs": []
    }
  ]
}